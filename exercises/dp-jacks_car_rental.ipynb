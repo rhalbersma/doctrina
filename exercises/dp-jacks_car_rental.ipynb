{
 "metadata": {
  "language_info": {
   "codemirror_mode": {
    "name": "ipython",
    "version": 3
   },
   "file_extension": ".py",
   "mimetype": "text/x-python",
   "name": "python",
   "nbconvert_exporter": "python",
   "pygments_lexer": "ipython3",
   "version": "3.8.5-final"
  },
  "orig_nbformat": 2,
  "kernelspec": {
   "name": "python3",
   "display_name": "Python 3",
   "language": "python"
  }
 },
 "nbformat": 4,
 "nbformat_minor": 2,
 "cells": [
  {
   "source": [
    "```\n",
    "         Copyright Rein Halbersma 2021.\n",
    "Distributed under the Boost Software License, Version 1.0.\n",
    "   (See accompanying file LICENSE_1_0.txt or copy at\n",
    "         http://www.boost.org/LICENSE_1_0.txt)\n",
    "```"
   ],
   "cell_type": "markdown",
   "metadata": {}
  },
  {
   "source": [
    "# Dynamic Programming for Jack's Car Rental Environment"
   ],
   "cell_type": "markdown",
   "metadata": {}
  },
  {
   "cell_type": "code",
   "execution_count": 1,
   "metadata": {},
   "outputs": [],
   "source": [
    "import gym\n",
    "import numpy as np\n",
    "import pandas as pd\n",
    "import plotnine as p9\n",
    "\n",
    "import gym_jcr\n",
    "\n",
    "from doctrina.algorithms import dp"
   ]
  },
  {
   "cell_type": "code",
   "execution_count": 2,
   "metadata": {},
   "outputs": [
    {
     "output_type": "stream",
     "name": "stdout",
     "text": [
      "\n"
     ]
    }
   ],
   "source": [
    "env0 = gym.make('JacksCarRental-v0')"
   ]
  },
  {
   "cell_type": "code",
   "execution_count": 3,
   "metadata": {},
   "outputs": [],
   "source": [
    "env1 = gym.make('JacksCarRental-v1')"
   ]
  },
  {
   "source": [
    "## Policy iteration"
   ],
   "cell_type": "markdown",
   "metadata": {}
  },
  {
   "cell_type": "code",
   "execution_count": 4,
   "metadata": {},
   "outputs": [
    {
     "output_type": "stream",
     "name": "stdout",
     "text": [
      "{'delta': 9.793780009204056e-09, 'evaluations': 821, 'improvements': 5}\n"
     ]
    }
   ],
   "source": [
    "policy0, V0, info = dp.V_policy_iter(env0, gamma=0.9)\n",
    "print(info)"
   ]
  },
  {
   "cell_type": "code",
   "execution_count": 5,
   "metadata": {},
   "outputs": [
    {
     "output_type": "stream",
     "name": "stdout",
     "text": [
      "{'delta': 9.835162018134724e-09, 'evaluations': 814, 'improvements': 5}\n"
     ]
    }
   ],
   "source": [
    "policy1, V1, info = dp.V_policy_iter(env1, gamma=0.9)\n",
    "print(info)"
   ]
  },
  {
   "cell_type": "code",
   "execution_count": 6,
   "metadata": {},
   "outputs": [],
   "source": [
    "assert (policy0 == policy1).all()"
   ]
  },
  {
   "source": [
    "## Optimal policy"
   ],
   "cell_type": "markdown",
   "metadata": {}
  },
  {
   "cell_type": "code",
   "execution_count": null,
   "metadata": {},
   "outputs": [],
   "source": [
    "df_policy = (pd\n",
    "    .DataFrame((policy1 - 5).reshape(21, 21))\n",
    "    .rename_axis('loc_1')\n",
    "    .reset_index()\n",
    "    .melt(id_vars='loc_1', var_name='loc_2', value_name='cars_moved')\n",
    "    .astype({'loc_2': 'int64'})\n",
    ")"
   ]
  },
  {
   "cell_type": "code",
   "execution_count": null,
   "metadata": {},
   "outputs": [],
   "source": [
    "(\n",
    "    p9.ggplot(df_policy, p9.aes(x='loc_2', y='loc_1')) +\n",
    "    p9.geom_tile(p9.aes(fill='cars_moved')) +\n",
    "    p9.xlab('#Cars at second location') + p9.ylab('#Cars at first location')\n",
    ")"
   ]
  },
  {
   "source": [
    "## State value function"
   ],
   "cell_type": "markdown",
   "metadata": {}
  },
  {
   "cell_type": "code",
   "execution_count": null,
   "metadata": {},
   "outputs": [],
   "source": [
    "df_V = (pd\n",
    "    .DataFrame(V1.reshape(21, 21))\n",
    "    .rename_axis('loc_1')\n",
    "    .reset_index()\n",
    "    .melt(id_vars='loc_1', var_name='loc_2', value_name='expected_value')\n",
    "    .astype({'loc_2': 'int64'})\n",
    ")"
   ]
  },
  {
   "cell_type": "code",
   "execution_count": null,
   "metadata": {},
   "outputs": [],
   "source": [
    "(\n",
    "    p9.ggplot(df_V, p9.aes(x='loc_2', y='loc_1')) +\n",
    "    p9.geom_tile(p9.aes(fill='expected_value')) +\n",
    "    p9.xlab('#Cars at second location') + p9.ylab('#Cars at first location')\n",
    ")"
   ]
  },
  {
   "source": [
    "## Time to solution (aka The Need for Speed)"
   ],
   "cell_type": "markdown",
   "metadata": {}
  },
  {
   "cell_type": "code",
   "execution_count": null,
   "metadata": {},
   "outputs": [],
   "source": [
    "%timeit dp.V_policy_iter(env1, gamma=0.9)"
   ]
  },
  {
   "cell_type": "code",
   "execution_count": null,
   "metadata": {},
   "outputs": [],
   "source": [
    "%timeit dp.V_value_iter(env1, gamma=0.9)"
   ]
  },
  {
   "source": [
    "## Check timing of manual simulation"
   ],
   "cell_type": "markdown",
   "metadata": {}
  },
  {
   "cell_type": "code",
   "execution_count": null,
   "metadata": {},
   "outputs": [],
   "source": [
    "from tqdm import tqdm"
   ]
  },
  {
   "cell_type": "code",
   "execution_count": null,
   "metadata": {},
   "outputs": [],
   "source": [
    "env1.reset()\n",
    "for _ in tqdm(range(1_000_000)):\n",
    "    env1.step(5)"
   ]
  },
  {
   "source": [
    "TODO: apply Temporal Difference methods and verify DP results. (Monte Carlo methods don't apply to continuing tasks, but TD(1) is similar)"
   ],
   "cell_type": "markdown",
   "metadata": {}
  }
 ]
}