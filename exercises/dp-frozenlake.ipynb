{
 "metadata": {
  "language_info": {
   "codemirror_mode": {
    "name": "ipython",
    "version": 3
   },
   "file_extension": ".py",
   "mimetype": "text/x-python",
   "name": "python",
   "nbconvert_exporter": "python",
   "pygments_lexer": "ipython3",
   "version": "3.8.5-final"
  },
  "orig_nbformat": 2,
  "kernelspec": {
   "name": "python3",
   "display_name": "Python 3",
   "language": "python"
  }
 },
 "nbformat": 4,
 "nbformat_minor": 2,
 "cells": [
  {
   "source": [
    "```\n",
    "         Copyright Rein Halbersma 2020-2021.\n",
    "Distributed under the Boost Software License, Version 1.0.\n",
    "   (See accompanying file LICENSE_1_0.txt or copy at\n",
    "         http://www.boost.org/LICENSE_1_0.txt)\n",
    "```"
   ],
   "cell_type": "markdown",
   "metadata": {}
  },
  {
   "source": [
    "# Dynamic programming for the Frozen Lake\n",
    "An implementation of the dynamic programming assignment of the [Udacity Deep Reinforcement Learning Nanodegree](https://github.com/udacity/deep-reinforcement-learning/blob/master/dynamic-programming/Dynamic_Programming_Solution.ipynb)"
   ],
   "cell_type": "markdown",
   "metadata": {}
  },
  {
   "cell_type": "code",
   "execution_count": 1,
   "metadata": {},
   "outputs": [],
   "source": [
    "from itertools import product\n",
    "\n",
    "import gym\n",
    "import numpy as np\n",
    "\n",
    "from doctrina.algorithms import dp\n",
    "from doctrina.spaces import state_table\n",
    "\n",
    "env = gym.make('FrozenLake-v0', is_slippery=True)"
   ]
  },
  {
   "source": [
    "## Part -1: Adapt the Gym environment\n",
    "> The reasonable man adapts himself to the world: the unreasonable one persists in trying to adapt the world to himself. Therefore all progress depends on the        unreasonable man.”\n",
    ">\n",
    ">    ― George Bernard Shaw, Man and Superman"
   ],
   "cell_type": "markdown",
   "metadata": {}
  },
  {
   "source": [
    "### Expand the state space to include a terminal state\n",
    "We must be careful to distinguish episodic tasks from continuing tasks. For episodic tasks (such as `FrozenLake-v0`), Sutton & Barto (p.54) recommend introducing a terminal state in which all episodes end. This distinguishes the set of all nonterminal states, denoted $S$, from the set of all states plus the terminal state, denoted $S^{+}$. \n",
    "\n",
    "The authors of the Frozen Lake environment did not follow this advice and instead encode the terminal nature of the goal state and the holes in the lake by the `done` flag. For the Frozen Lake environment this still leads to the correct results. But for more general environments this is not necessarily the case because the terminal nature of a state can be action-dependent. \n",
    "\n",
    "In the Blackjack environment, a hand will always terminate after standing, but after hitting it depends on whether the player busts or not. For such environments an explicit terminal state is required to assign a unique value to each state. To avoid having to analyze a specific environment's properties beforehand, we always create a terminal state for episodic tasks, even when it is not strictly necessary.\n",
    "\n",
    "For continuing tasks (such as Jack's Car Rental), no terminal state is required but one does need to set the discount parameter $\\gamma \\lt 1$."
   ],
   "cell_type": "markdown",
   "metadata": {}
  },
  {
   "cell_type": "code",
   "execution_count": 2,
   "metadata": {},
   "outputs": [],
   "source": [
    "H = W = int(np.sqrt(env.nS))\n",
    "env.observation_shape = (H, W)\n",
    "terminal = env.nS\n",
    "env.nSp = env.nS + 1"
   ]
  },
  {
   "source": [
    "### Extract unique rewards\n",
    "We need to know the (sorted) vector of unique rewards in order to determine the size of the dense tensor representing `env.P`."
   ],
   "cell_type": "markdown",
   "metadata": {}
  },
  {
   "cell_type": "code",
   "execution_count": 3,
   "metadata": {},
   "outputs": [],
   "source": [
    "Reward = np.unique([\n",
    "    t[2]\n",
    "    for s, a in product(range(env.nS), range(env.nA))\n",
    "    for t in env.P[s][a]\n",
    "])\n",
    "nR = len(Reward)"
   ]
  },
  {
   "source": [
    "### Create a dense version of `env.P`\n",
    "For reasons of both clarity and performance, it's more convenient to change the dictionary of dictionaries of lists `env.P` into a dense tensor that directly models equation (3.2) in Sutton & Barto. This allows the use of NumPy matrix multiplication when implementing the Bellman-equation. The transformation between the two equivalent representations is a relative straightforward exercise that can be applied to any model-based Gym environment found on the internet. The transformation is reminiscent of the transformation between adjacency lists and adjacency matrices for graph representations."
   ],
   "cell_type": "markdown",
   "metadata": {}
  },
  {
   "cell_type": "code",
   "execution_count": 4,
   "metadata": {},
   "outputs": [],
   "source": [
    "# Equation (3.2) in Sutton & Barto (p.48):\n",
    "# p(s', r|s, a) = probability of transition to state s' with reward r, from state s and action a.\n",
    "P_tensor = np.zeros((env.nSp, env.nA, env.nSp, nR))\n",
    "P_tensor[terminal, :, terminal, 0] = 1\n",
    "for s, a in product(range(env.nS), range(env.nA)):\n",
    "    for prob, next, reward, done in env.P[s][a]:\n",
    "        P_tensor[s, a, terminal if done else next, int(reward)] += prob\n",
    "# Equation (3.3) in Sutton & Barto (p.48):\n",
    "assert np.isclose(P_tensor.sum(axis=(2, 3)), 1).all()"
   ]
  },
  {
   "source": [
    "### Avoid redundant computations (aka Once And Only Once)\n",
    "The two terms in the Bellman-equation both contain summations that are state-independent. This redundancy can be avoided by pre-computing a separate transition tensor and a a reward matrix as discussed in Sutton & Barto (p.49). For the reward matrix, we need a (sorted) vector of unique rewards."
   ],
   "cell_type": "markdown",
   "metadata": {}
  },
  {
   "cell_type": "code",
   "execution_count": 5,
   "metadata": {},
   "outputs": [],
   "source": [
    "# Equation (3.4) in Sutton & Barto (p.49):\n",
    "# p(s'|s, a) = probability of transition to state s', from state s taking action a.\n",
    "env.transition = P_tensor.sum(axis=3)"
   ]
  },
  {
   "cell_type": "code",
   "execution_count": 6,
   "metadata": {},
   "outputs": [],
   "source": [
    "# Equation (3.5) in Sutton & Barto (p.49):\n",
    "# r(s, a) = expected immediate reward from state s after action a.\n",
    "env.reward = P_tensor.sum(axis=2) @ Reward"
   ]
  },
  {
   "source": [
    "## Part 0: Explore FrozenLakeEnv"
   ],
   "cell_type": "markdown",
   "metadata": {}
  },
  {
   "cell_type": "code",
   "execution_count": 7,
   "metadata": {},
   "outputs": [
    {
     "output_type": "stream",
     "name": "stdout",
     "text": [
      "Discrete(16)\nDiscrete(4)\n16\n4\n"
     ]
    }
   ],
   "source": [
    "# print the state space and action space\n",
    "print(env.observation_space)\n",
    "print(env.action_space)\n",
    "\n",
    "# print the total number of states and actions\n",
    "print(env.nS)\n",
    "print(env.nA)"
   ]
  },
  {
   "cell_type": "code",
   "execution_count": 8,
   "metadata": {},
   "outputs": [
    {
     "output_type": "execute_result",
     "data": {
      "text/plain": [
       "[(0.3333333333333333, 1, 0.0, False),\n",
       " (0.3333333333333333, 0, 0.0, False),\n",
       " (0.3333333333333333, 5, 0.0, True)]"
      ]
     },
     "metadata": {},
     "execution_count": 8
    }
   ],
   "source": [
    "env.P[1][0]"
   ]
  },
  {
   "source": [
    "## Part 1: Iterative Policy Evaluation"
   ],
   "cell_type": "markdown",
   "metadata": {}
  },
  {
   "cell_type": "code",
   "execution_count": 9,
   "metadata": {},
   "outputs": [
    {
     "output_type": "stream",
     "name": "stdout",
     "text": [
      "[[0.01394 0.01163 0.02095 0.01048]\n [0.01625 0.      0.04075 0.     ]\n [0.03481 0.08817 0.14205 0.     ]\n [0.      0.17582 0.43929 0.     ]]\n9.372906270566084e-09 74\n"
     ]
    }
   ],
   "source": [
    "random_policy = dp.policy_init_stoch(env)\n",
    "V, delta, iter = dp.V_policy_eval_stoch_sync(env, random_policy)\n",
    "print(state_table(V[:-1], env).round(5))\n",
    "print(delta, iter)"
   ]
  },
  {
   "source": [
    "## Part 2: Obtain $q_\\pi$ from $v_\\pi$"
   ],
   "cell_type": "markdown",
   "metadata": {}
  },
  {
   "cell_type": "code",
   "execution_count": 10,
   "metadata": {},
   "outputs": [
    {
     "output_type": "stream",
     "name": "stdout",
     "text": [
      "[[0.01470938 0.01393976 0.01393976 0.01317013]\n [0.00852355 0.0116309  0.01086128 0.01550787]\n [0.02444513 0.02095296 0.02406032 0.01435344]\n [0.01047648 0.01047648 0.00698431 0.01396863]\n [0.02166486 0.01701827 0.01624865 0.0100628 ]\n [0.         0.         0.         0.        ]\n [0.05433537 0.04735105 0.05433537 0.00698432]\n [0.         0.         0.         0.        ]\n [0.01701827 0.04099204 0.03480619 0.04640825]\n [0.07020885 0.1175599  0.10595784 0.05895311]\n [0.18940421 0.17582036 0.16001423 0.04297382]\n [0.         0.         0.         0.        ]\n [0.         0.         0.         0.        ]\n [0.08799676 0.20503718 0.23442715 0.17582036]\n [0.25238823 0.53837051 0.52711477 0.43929117]\n [0.         0.         0.         0.        ]]\n"
     ]
    }
   ],
   "source": [
    "Q = dp.Q_from_V_sync(env, V, gamma=1.)\n",
    "print(Q[:-1])"
   ]
  },
  {
   "source": [
    "## Part 3: Policy Improvement"
   ],
   "cell_type": "markdown",
   "metadata": {}
  },
  {
   "cell_type": "code",
   "execution_count": 11,
   "metadata": {},
   "outputs": [
    {
     "output_type": "stream",
     "name": "stdout",
     "text": [
      "[[1.   0.   0.   0.  ]\n [0.   0.   0.   1.  ]\n [1.   0.   0.   0.  ]\n [0.   0.   0.   1.  ]\n [1.   0.   0.   0.  ]\n [0.25 0.25 0.25 0.25]\n [0.5  0.   0.5  0.  ]\n [0.25 0.25 0.25 0.25]\n [0.   0.   0.   1.  ]\n [0.   1.   0.   0.  ]\n [1.   0.   0.   0.  ]\n [0.25 0.25 0.25 0.25]\n [0.25 0.25 0.25 0.25]\n [0.   0.   1.   0.  ]\n [0.   1.   0.   0.  ]\n [0.25 0.25 0.25 0.25]]\n"
     ]
    }
   ],
   "source": [
    "policy = dp.V_policy_impr_stoch(env, V, gamma=1.)\n",
    "print(policy[:-1])"
   ]
  },
  {
   "source": [
    "## Part 4: Policy Iteration"
   ],
   "cell_type": "markdown",
   "metadata": {}
  },
  {
   "cell_type": "code",
   "execution_count": 12,
   "metadata": {},
   "outputs": [
    {
     "output_type": "stream",
     "name": "stdout",
     "text": [
      "[[0.25 0.25 0.25 0.25]\n [0.   0.   0.   1.  ]\n [0.   0.   0.   1.  ]\n [0.   0.   0.   1.  ]\n [1.   0.   0.   0.  ]\n [0.25 0.25 0.25 0.25]\n [0.5  0.   0.5  0.  ]\n [0.25 0.25 0.25 0.25]\n [0.   0.   0.   1.  ]\n [0.   1.   0.   0.  ]\n [1.   0.   0.   0.  ]\n [0.25 0.25 0.25 0.25]\n [0.25 0.25 0.25 0.25]\n [0.   0.   1.   0.  ]\n [0.   1.   0.   0.  ]\n [0.25 0.25 0.25 0.25]]\n[[0.82353 0.82353 0.82353 0.82353]\n [0.82353 0.      0.52941 0.     ]\n [0.82353 0.82353 0.76471 0.     ]\n [0.      0.88235 0.94118 0.     ]]\n{'delta': 9.513950849360242e-09, 'evaluations': 1078, 'improvements': 4}\n"
     ]
    }
   ],
   "source": [
    "policy, V, info = dp.V_policy_iter(env, stoch=True)\n",
    "print(policy[:-1])\n",
    "print(state_table(V[:-1], env).round(5))\n",
    "print(info)"
   ]
  },
  {
   "source": [
    "## Part 5: Truncated Policy Iteration"
   ],
   "cell_type": "markdown",
   "metadata": {}
  },
  {
   "cell_type": "code",
   "execution_count": 13,
   "metadata": {},
   "outputs": [
    {
     "output_type": "stream",
     "name": "stdout",
     "text": [
      "[[0.25 0.25 0.25 0.25]\n [0.   0.   0.   1.  ]\n [0.   0.   0.   1.  ]\n [0.   0.   0.   1.  ]\n [1.   0.   0.   0.  ]\n [0.25 0.25 0.25 0.25]\n [0.5  0.   0.5  0.  ]\n [0.25 0.25 0.25 0.25]\n [0.   0.   0.   1.  ]\n [0.   1.   0.   0.  ]\n [1.   0.   0.   0.  ]\n [0.25 0.25 0.25 0.25]\n [0.25 0.25 0.25 0.25]\n [0.   0.   1.   0.  ]\n [0.   1.   0.   0.  ]\n [0.25 0.25 0.25 0.25]]\n[[0.82353 0.82353 0.82353 0.82353]\n [0.82353 0.      0.52941 0.     ]\n [0.82353 0.82353 0.76471 0.     ]\n [0.      0.88235 0.94118 0.     ]]\n{'delta': 9.935870903809985e-09, 'evaluations': 830, 'improvements': 415}\n"
     ]
    }
   ],
   "source": [
    "policy, V, info = dp.V_policy_iter(env, stoch=True, maxiter=2)\n",
    "print(policy[:-1])\n",
    "print(state_table(V[:-1], env).round(5))\n",
    "print(info)"
   ]
  },
  {
   "source": [
    "## Part 6: Value Iteration"
   ],
   "cell_type": "markdown",
   "metadata": {}
  },
  {
   "cell_type": "code",
   "execution_count": 16,
   "metadata": {},
   "outputs": [
    {
     "output_type": "stream",
     "name": "stdout",
     "text": [
      "iter: 0, delta: 0.3333333333333333\niter: 1, delta: 0.1111111111111111\niter: 2, delta: 0.07407407407407407\niter: 3, delta: 0.07407407407407407\niter: 4, delta: 0.053497942386831254\niter: 5, delta: 0.04938271604938266\niter: 6, delta: 0.03886602652034754\niter: 7, delta: 0.034903215973174806\niter: 8, delta: 0.0294162475232434\niter: 9, delta: 0.025775203644430922\niter: 10, delta: 0.02312203988777678\niter: 11, delta: 0.020630700303514382\niter: 12, delta: 0.019383148834960034\niter: 13, delta: 0.018480780452476253\niter: 14, delta: 0.01753576073773419\niter: 15, delta: 0.01701978647804553\niter: 16, delta: 0.01680298328259036\niter: 17, delta: 0.01676787930542309\niter: 18, delta: 0.016687097138358448\niter: 19, delta: 0.01653155210384341\niter: 20, delta: 0.01631615096429548\niter: 21, delta: 0.01605540046377213\niter: 22, delta: 0.015759634011577345\niter: 23, delta: 0.015438070732001208\niter: 24, delta: 0.015097655916098518\niter: 25, delta: 0.01474430799309251\niter: 26, delta: 0.014382604887017147\niter: 27, delta: 0.014016336202213764\niter: 28, delta: 0.013648461985906135\niter: 29, delta: 0.013281379244648228\niter: 30, delta: 0.012916956977161498\niter: 31, delta: 0.012556676496988939\niter: 32, delta: 0.012201678183129672\niter: 33, delta: 0.01185284124029451\niter: 34, delta: 0.011510823605351495\niter: 35, delta: 0.01117610999641\niter: 36, delta: 0.010849041747607813\niter: 37, delta: 0.010529846899738238\niter: 38, delta: 0.010218661246293226\niter: 39, delta: 0.009915547620090004\niter: 40, delta: 0.009620510299800877\niter: 41, delta: 0.009333507524446172\niter: 42, delta: 0.009054461182311901\niter: 43, delta: 0.008783755049936559\niter: 44, delta: 0.008547924950661367\niter: 45, delta: 0.008439062131851416\niter: 46, delta: 0.008323550012795222\niter: 47, delta: 0.00824038038726399\niter: 48, delta: 0.008207283917628982\niter: 49, delta: 0.008201914483700223\niter: 50, delta: 0.008188428029924255\niter: 51, delta: 0.008160382184803194\niter: 52, delta: 0.008119272948921008\niter: 53, delta: 0.008066484346840097\niter: 54, delta: 0.008003291642474597\niter: 55, delta: 0.007930867901087935\niter: 56, delta: 0.007850289805833355\niter: 57, delta: 0.007762544272706673\niter: 58, delta: 0.0076685345026706875\niter: 59, delta: 0.007569086054244667\niter: 60, delta: 0.007464952479182718\niter: 61, delta: 0.007356820740073378\niter: 62, delta: 0.007245316259218537\niter: 63, delta: 0.007131007685094781\niter: 64, delta: 0.007014411332556314\niter: 65, delta: 0.006895995336518301\niter: 66, delta: 0.006776183513259815\niter: 67, delta: 0.006655358953036594\niter: 68, delta: 0.006533867351646849\niter: 69, delta: 0.006412020098890747\niter: 70, delta: 0.006290097136015471\niter: 71, delta: 0.00616834959757806\niter: 72, delta: 0.006047002250759381\niter: 73, delta: 0.005926255745960396\niter: 74, delta: 0.005806288691257655\niter: 75, delta: 0.00568725956315308\niter: 76, delta: 0.005569308465184775\niter: 77, delta: 0.005452558745487668\niter: 78, delta: 0.005337118483669578\niter: 79, delta: 0.005223081856788325\niter: 80, delta: 0.005110530393573343\niter: 81, delta: 0.004999534125446847\niter: 82, delta: 0.004890152642319845\niter: 83, delta: 0.004782436060589146\niter: 84, delta: 0.004676425910231208\niter: 85, delta: 0.004572155947401901\niter: 86, delta: 0.004469652898469567\niter: 87, delta: 0.004368937140981077\niter: 88, delta: 0.004270023326638728\niter: 89, delta: 0.00417292095098154\niter: 90, delta: 0.004077634874106617\niter: 91, delta: 0.003984165796428685\niter: 92, delta: 0.003892510693161877\niter: 93, delta: 0.0038026632109223746\niter: 94, delta: 0.003714614029577956\niter: 95, delta: 0.0036283511922247103\niter: 96, delta: 0.00354386040593746\niter: 97, delta: 0.003461125315731728\niter: 98, delta: 0.0033801277539761143\niter: 99, delta: 0.003300847967311449\niter: 100, delta: 0.0032232648229707506\niter: 101, delta: 0.003147355996233281\niter: 102, delta: 0.0030730981406097424\niter: 103, delta: 0.0030004670422217883\niter: 104, delta: 0.002929437759718545\niter: 105, delta: 0.002859984750964828\niter: 106, delta: 0.0027920819876312564\niter: 107, delta: 0.0027257030587229947\niter: 108, delta: 0.002660821264000135\niter: 109, delta: 0.002597409698161579\niter: 110, delta: 0.0025354413265916698\niter: 111, delta: 0.0024748890534036505\niter: 112, delta: 0.0024157257824509726\niter: 113, delta: 0.0023579244719236225\niter: 114, delta: 0.002301458183091576\niter: 115, delta: 0.0022463001237140734\niter: 116, delta: 0.0021924236865866753\niter: 117, delta: 0.0021398024836599694\niter: 118, delta: 0.002088410376127503\niter: 119, delta: 0.0020382215008447613\niter: 120, delta: 0.001989210293413368\niter: 121, delta: 0.001941351508233602\niter: 122, delta: 0.001894620235804334\niter: 123, delta: 0.001848991917524856\niter: 124, delta: 0.0018044423582324054\niter: 125, delta: 0.0017609477366866688\niter: 126, delta: 0.0017184846141978793\niter: 127, delta: 0.001677029941576036\niter: 128, delta: 0.0016365610645632245\niter: 129, delta: 0.0015970557278989217\niter: 130, delta: 0.0015584920781521738\niter: 131, delta: 0.0015208486654479936\niter: 132, delta: 0.0014841044441961104\niter: 133, delta: 0.0014482387729309876\niter: 134, delta: 0.001413231413352256\niter: 135, delta: 0.0013790625286550506\niter: 136, delta: 0.0013457126812267406\niter: 137, delta: 0.0013131628297814446\niter: 138, delta: 0.0012813943259980531\niter: 139, delta: 0.001250388910719713\niter: 140, delta: 0.001220128709770285\niter: 141, delta: 0.0011905962294346262\niter: 142, delta: 0.0011617743516482149\niter: 143, delta: 0.0011336463289366439\niter: 144, delta: 0.0011061957791413946\niter: 145, delta: 0.0010794066799628688\niter: 146, delta: 0.001053263363356649\niter: 147, delta: 0.0010277505098013062\niter: 148, delta: 0.0010028531424712828\niter: 149, delta: 0.0009785566213309504\niter: 150, delta: 0.0009548466371713804\niter: 151, delta: 0.0009317092056108089\niter: 152, delta: 0.000909130661068569\niter: 153, delta: 0.0008870976507344697\niter: 154, delta: 0.0008655971285420616\niter: 155, delta: 0.0008446163491560021\niter: 156, delta: 0.0008241428619905067\niter: 157, delta: 0.0008041645052602187\niter: 158, delta: 0.0007846694000774868\niter: 159, delta: 0.0007656459446006014\niter: 160, delta: 0.000747082808240207\niter: 161, delta: 0.0007289689259275534\niter: 162, delta: 0.0007112934924541348\niter: 163, delta: 0.0006940459568809398\niter: 164, delta: 0.0006772160170260833\niter: 165, delta: 0.0006607936140300419\niter: 166, delta: 0.0006447689270033807\niter: 167, delta: 0.0006291323677596328\niter: 168, delta: 0.0006138745756317787\niter: 169, delta: 0.0005989864123777666\niter: 170, delta: 0.0005844589571737391\niter: 171, delta: 0.0005702835016960783\niter: 172, delta: 0.0005564515452933794\niter: 173, delta: 0.0005429547902483511\niter: 174, delta: 0.0005297851371296458\niter: 175, delta: 0.00051693468023295\niter: 176, delta: 0.0005043957031137802\niter: 177, delta: 0.0004921606742058771\niter: 178, delta: 0.0004802222425320801\niter: 179, delta: 0.00046857323350046887\niter: 180, delta: 0.0004572066447887657\niter: 181, delta: 0.00044611564231433753\niter: 182, delta: 0.0004352935562905724\niter: 183, delta: 0.00042473387736652324\niter: 184, delta: 0.0004144302528497068\niter: 185, delta: 0.0004043764830116148\niter: 186, delta: 0.00039456651747371563\niter: 187, delta: 0.0003849944516727266\niter: 188, delta: 0.0003756545234051556\niter: 189, delta: 0.0003665411094473381\niter: 190, delta: 0.00035764872225296784\niter: 191, delta: 0.0003489720067240132\niter: 192, delta: 0.000340505737054575\niter: 193, delta: 0.0003322448136476863\niter: 194, delta: 0.0003241842601008349\niter: 195, delta: 0.00031631922026242876\niter: 196, delta: 0.0003086449553540982\niter: 197, delta: 0.0003011568411613874\niter: 198, delta: 0.0002938503652872848\niter: 199, delta: 0.00028672112447181153\niter: 200, delta: 0.00027976482197211716\niter: 201, delta: 0.00027297726500519204\niter: 202, delta: 0.00026635436224942133\niter: 203, delta: 0.000259892121405092\niter: 204, delta: 0.0002535866468124093\niter: 205, delta: 0.0002474341371251354\niter: 206, delta: 0.00024143088304018345\niter: 207, delta: 0.00023557326507928078\niter: 208, delta: 0.00022985775142425613\niter: 209, delta: 0.00022428089580373012\niter: 210, delta: 0.00021883933542932166\niter: 211, delta: 0.00021352978898092623\niter: 212, delta: 0.000208349054641066\niter: 213, delta: 0.0002032940081743151\niter: 214, delta: 0.00019836160105468625\niter: 215, delta: 0.0001935488586350953\niter: 216, delta: 0.00018885287836345466\niter: 217, delta: 0.0001842708280389571\niter: 218, delta: 0.0001797999441119913\niter: 219, delta: 0.0001754375300235811\niter: 220, delta: 0.00017118095458545923\niter: 221, delta: 0.0001670276503975554\niter: 222, delta: 0.00016297511230645156\niter: 223, delta: 0.00015902089589769908\niter: 224, delta: 0.00015516261602543935\niter: 225, delta: 0.0001513979453791059\niter: 226, delta: 0.00014772461308165674\niter: 227, delta: 0.00014414040332422218\niter: 228, delta: 0.0001406431540319497\niter: 229, delta: 0.00013723075556260067\niter: 230, delta: 0.00013390114943689913\niter: 231, delta: 0.0001306523270985238\niter: 232, delta: 0.00012748232870551934\niter: 233, delta: 0.0001243892419490189\niter: 234, delta: 0.00012137120090194298\niter: 235, delta: 0.00011842638489512058\niter: 236, delta: 0.0001155530174202779\niter: 237, delta: 0.00011274936505967226\niter: 238, delta: 0.0001100137364421494\niter: 239, delta: 0.00010734448122284856\niter: 240, delta: 0.00010473998908999693\niter: 241, delta: 0.00010219868879357552\niter: 242, delta: 9.971904719852098e-05\niter: 243, delta: 9.729956836057596e-05\niter: 244, delta: 9.493879262501004e-05\niter: 245, delta: 9.263529574587981e-05\niter: 246, delta: 9.038768802815955e-05\niter: 247, delta: 8.819461348963387e-05\niter: 248, delta: 8.605474904321841e-05\niter: 249, delta: 8.396680369970877e-05\niter: 250, delta: 8.192951778895896e-05\niter: 251, delta: 7.994166220048893e-05\niter: 252, delta: 7.800203764185554e-05\niter: 253, delta: 7.610947391645251e-05\niter: 254, delta: 7.426282921729754e-05\niter: 255, delta: 7.24609894379169e-05\niter: 256, delta: 7.07028675013266e-05\niter: 257, delta: 6.898740270400161e-05\niter: 258, delta: 6.731356007660949e-05\niter: 259, delta: 6.568032975873273e-05\niter: 260, delta: 6.40867263907996e-05\niter: 261, delta: 6.253178852000385e-05\niter: 262, delta: 6.1014578018991905e-05\niter: 263, delta: 5.9534179521314456e-05\niter: 264, delta: 5.808969986875745e-05\niter: 265, delta: 5.668026757321698e-05\niter: 266, delta: 5.5305032289676426e-05\niter: 267, delta: 5.3963164304726696e-05\niter: 268, delta: 5.2653854035522585e-05\niter: 269, delta: 5.13763115406185e-05\niter: 270, delta: 5.012976604512609e-05\niter: 271, delta: 4.891346547464259e-05\niter: 272, delta: 4.7726676001280666e-05\niter: 273, delta: 4.656868160179961e-05\niter: 274, delta: 4.5438783625506574e-05\niter: 275, delta: 4.433630037248282e-05\niter: 276, delta: 4.326056668246814e-05\niter: 277, delta: 4.221093353373728e-05\niter: 278, delta: 4.118676765130225e-05\niter: 279, delta: 4.018745112510658e-05\niter: 280, delta: 3.9212381037323496e-05\niter: 281, delta: 3.8260969098091735e-05\niter: 282, delta: 3.7332641291354385e-05\niter: 283, delta: 3.6426837528025224e-05\niter: 284, delta: 3.5543011308258876e-05\niter: 285, delta: 3.4680629392047635e-05\niter: 286, delta: 3.383917147670168e-05\niter: 287, delta: 3.3018129884099245e-05\niter: 288, delta: 3.221700925326587e-05\niter: 289, delta: 3.143532624261258e-05\niter: 290, delta: 3.0672609237059056e-05\niter: 291, delta: 2.9928398064926753e-05\niter: 292, delta: 2.9202243719161913e-05\niter: 293, delta: 2.849370808699625e-05\niter: 294, delta: 2.780236368560285e-05\niter: 295, delta: 2.7127793403969314e-05\niter: 296, delta: 2.6469590251654296e-05\niter: 297, delta: 2.5827357112762073e-05\niter: 298, delta: 2.5200706506578463e-05\niter: 299, delta: 2.4589260353757858e-05\niter: 300, delta: 2.399264974861648e-05\niter: 301, delta: 2.3410514735644483e-05\niter: 302, delta: 2.284250409334554e-05\niter: 303, delta: 2.2288275121851164e-05\niter: 304, delta: 2.174749343586413e-05\niter: 305, delta: 2.121983276370809e-05\niter: 306, delta: 2.070497474959687e-05\niter: 307, delta: 2.0202608762454055e-05\niter: 308, delta: 1.9712431707508138e-05\niter: 309, delta: 1.9234147844438e-05\niter: 310, delta: 1.8767468608182902e-05\niter: 311, delta: 1.8312112435303618e-05\niter: 312, delta: 1.7867804594007275e-05\niter: 313, delta: 1.743427701772493e-05\niter: 314, delta: 1.701126814490639e-05\niter: 315, delta: 1.659852275959217e-05\niter: 316, delta: 1.6195791838202744e-05\niter: 317, delta: 1.5802832399436362e-05\niter: 318, delta: 1.5419407357497583e-05\niter: 319, delta: 1.5045285378656459e-05\niter: 320, delta: 1.4680240742470652e-05\niter: 321, delta: 1.4324053204783915e-05\niter: 322, delta: 1.3976507865276488e-05\niter: 323, delta: 1.3637395037902067e-05\niter: 324, delta: 1.3306510124544424e-05\niter: 325, delta: 1.2983653490672431e-05\niter: 326, delta: 1.2668630345546994e-05\niter: 327, delta: 1.2361250625092524e-05\niter: 328, delta: 1.2061328876322719e-05\niter: 329, delta: 1.1768684146207242e-05\niter: 330, delta: 1.1483139871981685e-05\niter: 331, delta: 1.1204523774899222e-05\niter: 332, delta: 1.0932667756202719e-05\niter: 333, delta: 1.0667407795872386e-05\niter: 334, delta: 1.0408583853260822e-05\niter: 335, delta: 1.01560397709477e-05\niter: 336, delta: 9.909623180370808e-06\niter: 337, delta: 9.669185409899583e-06\niter: 338, delta: 9.434581394907049e-06\niter: 339, delta: 9.205669590950372e-06\niter: 340, delta: 8.982311887284489e-06\niter: 341, delta: 8.764373524705604e-06\niter: 342, delta: 8.551723013283663e-06\niter: 343, delta: 8.344232053647538e-06\niter: 344, delta: 8.141775459269418e-06\niter: 345, delta: 7.944231081191688e-06\niter: 346, delta: 7.751479733753008e-06\niter: 347, delta: 7.563405123645062e-06\niter: 348, delta: 7.379893778858282e-06\niter: 349, delta: 7.200834980514159e-06\niter: 350, delta: 7.026120696362881e-06\niter: 351, delta: 6.855645515058129e-06\niter: 352, delta: 6.689306583207433e-06\niter: 353, delta: 6.527003542533549e-06\niter: 354, delta: 6.368638470144461e-06\niter: 355, delta: 6.214115818692356e-06\niter: 356, delta: 6.063342359641233e-06\niter: 357, delta: 5.916227125757345e-06\niter: 358, delta: 5.772681357485432e-06\niter: 359, delta: 5.6326184486588105e-06\niter: 360, delta: 5.495953894318895e-06\niter: 361, delta: 5.362605240311069e-06\niter: 362, delta: 5.2324920324364754e-06\niter: 363, delta: 5.105535768934466e-06\niter: 364, delta: 4.981659852854037e-06\niter: 365, delta: 4.8607895453134375e-06\niter: 366, delta: 4.742851921313296e-06\niter: 367, delta: 4.627775824772584e-06\niter: 368, delta: 4.5154918263401456e-06\niter: 369, delta: 4.405932181095196e-06\niter: 370, delta: 4.299030788135205e-06\niter: 371, delta: 4.194723150052759e-06\niter: 372, delta: 4.092946334188774e-06\niter: 373, delta: 3.99363893521798e-06\niter: 374, delta: 3.896741037623386e-06\niter: 375, delta: 3.8021941795030045e-06\niter: 376, delta: 3.7099413172647644e-06\niter: 377, delta: 3.6199267916536826e-06\niter: 378, delta: 3.5320962938900635e-06\niter: 379, delta: 3.4463968324738303e-06\niter: 380, delta: 3.362776702431347e-06\niter: 381, delta: 3.281185452341795e-06\niter: 382, delta: 3.201573855693418e-06\niter: 383, delta: 3.1238938799083016e-06\niter: 384, delta: 3.0480986579206615e-06\niter: 385, delta: 2.974142459866158e-06\niter: 386, delta: 2.901980665548365e-06\niter: 387, delta: 2.8315697369052373e-06\niter: 388, delta: 2.762867193029095e-06\niter: 389, delta: 2.695831582855135e-06\niter: 390, delta: 2.630422461624704e-06\niter: 391, delta: 2.5666003659052805e-06\niter: 392, delta: 2.504326789387612e-06\niter: 393, delta: 2.4435641603481884e-06\niter: 394, delta: 2.3842758185566026e-06\niter: 395, delta: 2.3264259934041576e-06\niter: 396, delta: 2.2699797818104273e-06\niter: 397, delta: 2.2149031281282205e-06\niter: 398, delta: 2.161162802494232e-06\niter: 399, delta: 2.108726381511161e-06\niter: 400, delta: 2.0575622285967654e-06\niter: 401, delta: 2.0076394745549564e-06\niter: 402, delta: 1.9589279992571207e-06\niter: 403, delta: 1.9113984133234396e-06\niter: 404, delta: 1.8650220405813656e-06\niter: 405, delta: 1.819770900524098e-06\niter: 406, delta: 1.775617691435194e-06\niter: 407, delta: 1.7325357744013559e-06\niter: 408, delta: 1.690499156437042e-06\niter: 409, delta: 1.6494824752744108e-06\niter: 410, delta: 1.6094609844863328e-06\niter: 411, delta: 1.570410537388156e-06\niter: 412, delta: 1.5323075736040082e-06\niter: 413, delta: 1.495129104411852e-06\niter: 414, delta: 1.4588526984216088e-06\niter: 415, delta: 1.423456469029638e-06\niter: 416, delta: 1.3889190605409496e-06\niter: 417, delta: 1.3552196351795942e-06\niter: 418, delta: 1.3223378609872327e-06\niter: 419, delta: 1.2902538992776158e-06\niter: 420, delta: 1.2589483926461753e-06\niter: 421, delta: 1.2284024533126825e-06\niter: 422, delta: 1.1985976517969732e-06\niter: 423, delta: 1.1695160060387622e-06\niter: 424, delta: 1.1411399700733682e-06\niter: 425, delta: 1.1134524235956178e-06\niter: 426, delta: 1.0864366615237486e-06\niter: 427, delta: 1.0600763844514915e-06\niter: 428, delta: 1.0343556884340188e-06\niter: 429, delta: 1.0092590552179814e-06\niter: 430, delta: 9.84771343026658e-07\niter: 431, delta: 9.608777776781707e-07\niter: 432, delta: 9.375639432596117e-07\niter: 433, delta: 9.148157739113927e-07\niter: 434, delta: 8.926195447234164e-07\niter: 435, delta: 8.709618637414707e-07\niter: 436, delta: 8.498296646397563e-07\niter: 437, delta: 8.292101971729693e-07\niter: 438, delta: 8.090910210700741e-07\niter: 439, delta: 7.894599977076311e-07\niter: 440, delta: 7.703052831153911e-07\niter: 441, delta: 7.516153205378018e-07\niter: 442, delta: 7.333788335506242e-07\niter: 443, delta: 7.155848195106174e-07\niter: 444, delta: 6.982225426721556e-07\niter: 445, delta: 6.812815278589568e-07\niter: 446, delta: 6.647515538027449e-07\niter: 447, delta: 6.486226474811119e-07\niter: 448, delta: 6.328850779002693e-07\niter: 449, delta: 6.175293497667766e-07\niter: 450, delta: 6.025461987135827e-07\niter: 451, delta: 5.879265845276649e-07\niter: 452, delta: 5.73661687042204e-07\niter: 453, delta: 5.597428995862685e-07\niter: 454, delta: 5.461618245439226e-07\niter: 455, delta: 5.329102678031106e-07\niter: 456, delta: 5.199802345368099e-07\niter: 457, delta: 5.073639233188487e-07\niter: 458, delta: 4.95053722349148e-07\niter: 459, delta: 4.830422046797622e-07\niter: 460, delta: 4.713221231078535e-07\niter: 461, delta: 4.5988640651195567e-07\niter: 462, delta: 4.4872815541108224e-07\niter: 463, delta: 4.378406376348565e-07\niter: 464, delta: 4.272172844377309e-07\niter: 465, delta: 4.168516860580951e-07\niter: 466, delta: 4.067375889427183e-07\niter: 467, delta: 3.968688908617679e-07\niter: 468, delta: 3.87239637356096e-07\niter: 469, delta: 3.7784401918372623e-07\niter: 470, delta: 3.6867636732385023e-07\niter: 471, delta: 3.597311508674039e-07\niter: 472, delta: 3.510029726871977e-07\niter: 473, delta: 3.424865667733812e-07\niter: 474, delta: 3.341767950137964e-07\niter: 475, delta: 3.260686436412641e-07\niter: 476, delta: 3.181572207910932e-07\niter: 477, delta: 3.1043775339245627e-07\niter: 478, delta: 3.0290558372669807e-07\niter: 479, delta: 2.955561676509788e-07\niter: 480, delta: 2.8838507082351583e-07\niter: 481, delta: 2.813879668162045e-07\niter: 482, delta: 2.745606340059936e-07\niter: 483, delta: 2.678989530213727e-07\niter: 484, delta: 2.613989049660148e-07\niter: 485, delta: 2.5505656786606323e-07\niter: 486, delta: 2.4886811522684127e-07\niter: 487, delta: 2.428298134793394e-07\niter: 488, delta: 2.3693801931568004e-07\niter: 489, delta: 2.3118917824582752e-07\niter: 490, delta: 2.2557982137794141e-07\niter: 491, delta: 2.2010656486326496e-07\niter: 492, delta: 2.1476610623238912e-07\niter: 493, delta: 2.0955522350707412e-07\niter: 494, delta: 2.0447077275775882e-07\niter: 495, delta: 1.995096863272039e-07\niter: 496, delta: 1.9466897094311264e-07\niter: 497, delta: 1.8994570616381878e-07\niter: 498, delta: 1.8533704226886272e-07\niter: 499, delta: 1.8084019859365696e-07\niter: 500, delta: 1.7645246219721855e-07\niter: 501, delta: 1.7217118564172296e-07\niter: 502, delta: 1.679937859933034e-07\niter: 503, delta: 1.6391774293467165e-07\niter: 504, delta: 1.5994059698876129e-07\niter: 505, delta: 1.5605994885259378e-07\niter: 506, delta: 1.522734570658102e-07\niter: 507, delta: 1.4857883712249276e-07\niter: 508, delta: 1.4497386013889724e-07\niter: 509, delta: 1.4145635063300688e-07\niter: 510, delta: 1.3802418685759932e-07\niter: 511, delta: 1.3467529791366672e-07\niter: 512, delta: 1.3140766319530428e-07\niter: 513, delta: 1.2821931116846486e-07\niter: 514, delta: 1.251083184827806e-07\niter: 515, delta: 1.2207280797316145e-07\niter: 516, delta: 1.19110948215706e-07\niter: 517, delta: 1.1622095219543382e-07\niter: 518, delta: 1.1340107630708474e-07\niter: 519, delta: 1.1064961946694041e-07\niter: 520, delta: 1.0796492111442291e-07\niter: 521, delta: 1.0534536187822852e-07\niter: 522, delta: 1.0278936102281477e-07\niter: 523, delta: 1.0029537667044508e-07\niter: 524, delta: 9.786190402483186e-08\niter: 525, delta: 9.548747492704734e-08\niter: 526, delta: 9.317065663427826e-08\niter: 527, delta: 9.09100515977812e-08\niter: 528, delta: 8.870429546448122e-08\niter: 529, delta: 8.65520579651502e-08\niter: 530, delta: 8.445204024987163e-08\niter: 531, delta: 8.240297544315212e-08\niter: 532, delta: 8.040362720063143e-08\niter: 533, delta: 7.845278915397103e-08\niter: 534, delta: 7.654928457778709e-08\niter: 535, delta: 7.469196472431605e-08\niter: 536, delta: 7.287970915648145e-08\niter: 537, delta: 7.111142452664865e-08\niter: 538, delta: 6.938604368844636e-08\niter: 539, delta: 6.770252614085592e-08\niter: 540, delta: 6.605985558572058e-08\niter: 541, delta: 6.445704148205778e-08\niter: 542, delta: 6.289311649254614e-08\niter: 543, delta: 6.136713714965936e-08\niter: 544, delta: 5.987818252339849e-08\niter: 545, delta: 5.8425354665381235e-08\niter: 546, delta: 5.700777694350734e-08\niter: 547, delta: 5.5624593819914026e-08\niter: 548, delta: 5.4274971073020595e-08\niter: 549, delta: 5.295809413219388e-08\niter: 550, delta: 5.167316874388206e-08\niter: 551, delta: 5.041941952832474e-08\niter: 552, delta: 4.9196090312619845e-08\niter: 553, delta: 4.80024425764114e-08\niter: 554, delta: 4.683775656211253e-08\niter: 555, delta: 4.5701329276504055e-08\niter: 556, delta: 4.459247515686826e-08\niter: 557, delta: 4.3510525293832814e-08\niter: 558, delta: 4.2454826987281535e-08\niter: 559, delta: 4.142474296919829e-08\niter: 560, delta: 4.04196519587785e-08\niter: 561, delta: 3.9438947552206116e-08\niter: 562, delta: 3.848203800060901e-08\niter: 563, delta: 3.7548345988014376e-08\niter: 564, delta: 3.663730829828182e-08\niter: 565, delta: 3.574837514896956e-08\niter: 566, delta: 3.488101008031208e-08\niter: 567, delta: 3.403469017726479e-08\niter: 568, delta: 3.320890451519176e-08\niter: 569, delta: 3.2403154825999536e-08\niter: 570, delta: 3.161695516507024e-08\niter: 571, delta: 3.084983113410544e-08\niter: 572, delta: 3.010131988112619e-08\niter: 573, delta: 2.9370969767406052e-08\niter: 574, delta: 2.8658340145426564e-08\niter: 575, delta: 2.796300124785489e-08\niter: 576, delta: 2.728453318834312e-08\niter: 577, delta: 2.6622526960728976e-08\niter: 578, delta: 2.5976583106768203e-08\niter: 579, delta: 2.534631171613455e-08\niter: 580, delta: 2.4731332537442086e-08\niter: 581, delta: 2.4131274756200582e-08\niter: 582, delta: 2.354577621765941e-08\niter: 583, delta: 2.297448364885213e-08\niter: 584, delta: 2.24170524365519e-08\niter: 585, delta: 2.1873146183182257e-08\niter: 586, delta: 2.1342436817839427e-08\niter: 587, delta: 2.0824603930158503e-08\niter: 588, delta: 2.031933532542496e-08\niter: 589, delta: 1.9826326136396233e-08\niter: 590, delta: 1.9345278712279423e-08\niter: 591, delta: 1.8875903062820498e-08\niter: 592, delta: 1.8417916081148178e-08\niter: 593, delta: 1.7971040988662423e-08\niter: 594, delta: 1.7535008556279763e-08\niter: 595, delta: 1.710955566114336e-08\niter: 596, delta: 1.6694425397645318e-08\niter: 597, delta: 1.6289367632538188e-08\niter: 598, delta: 1.5894137783689644e-08\niter: 599, delta: 1.5508497375193997e-08\niter: 600, delta: 1.5132213704305286e-08\niter: 601, delta: 1.476505995245958e-08\niter: 602, delta: 1.4406814408118862e-08\niter: 603, delta: 1.4057261021882539e-08\niter: 604, delta: 1.3716188851375932e-08\niter: 605, delta: 1.3383392172272579e-08\niter: 606, delta: 1.3058670145227325e-08\niter: 607, delta: 1.2741826926898625e-08\niter: 608, delta: 1.2432671114837035e-08\niter: 609, delta: 1.2131016524641325e-08\niter: 610, delta: 1.1836680968713154e-08\niter: 611, delta: 1.1549486811368581e-08\niter: 612, delta: 1.1269261079860371e-08\niter: 613, delta: 1.0995834243132663e-08\niter: 614, delta: 1.0729041655110905e-08\niter: 615, delta: 1.0468722333456526e-08\niter: 616, delta: 1.021471907058924e-08\niter: 617, delta: 9.96687876675395e-09\n[[0.25 0.25 0.25 0.25]\n [0.   0.   0.   1.  ]\n [0.   0.   0.   1.  ]\n [0.   0.   0.   1.  ]\n [1.   0.   0.   0.  ]\n [0.25 0.25 0.25 0.25]\n [0.5  0.   0.5  0.  ]\n [0.25 0.25 0.25 0.25]\n [0.   0.   0.   1.  ]\n [0.   1.   0.   0.  ]\n [1.   0.   0.   0.  ]\n [0.25 0.25 0.25 0.25]\n [0.25 0.25 0.25 0.25]\n [0.   0.   1.   0.  ]\n [0.   1.   0.   0.  ]\n [0.25 0.25 0.25 0.25]]\n[[0.82353 0.82353 0.82353 0.82353]\n [0.82353 0.      0.52941 0.     ]\n [0.82353 0.82353 0.76471 0.     ]\n [0.      0.88235 0.94118 0.     ]]\n{'delta': 9.96687876675395e-09, 'iter': 618}\n"
     ]
    }
   ],
   "source": [
    "policy, V, info = dp.V_value_iter(env, stoch=True)\n",
    "print(policy[:-1])\n",
    "print(state_table(V[:-1], env).round(5))\n",
    "print(info)"
   ]
  },
  {
   "source": [
    "## Part 7: Purrformance (aka The Need for Speed)"
   ],
   "cell_type": "markdown",
   "metadata": {}
  },
  {
   "cell_type": "code",
   "execution_count": 15,
   "metadata": {},
   "outputs": [
    {
     "output_type": "stream",
     "name": "stdout",
     "text": [
      "10.2 ms ± 152 µs per loop (mean ± std. dev. of 7 runs, 100 loops each)\n"
     ]
    }
   ],
   "source": [
    "%timeit dp.V_value_iter(env, stoch=True)"
   ]
  }
 ]
}