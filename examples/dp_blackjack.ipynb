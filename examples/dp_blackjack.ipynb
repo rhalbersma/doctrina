{
 "metadata": {
  "language_info": {
   "codemirror_mode": {
    "name": "ipython",
    "version": 3
   },
   "file_extension": ".py",
   "mimetype": "text/x-python",
   "name": "python",
   "nbconvert_exporter": "python",
   "pygments_lexer": "ipython3",
   "version": "3.8.5-final"
  },
  "orig_nbformat": 2,
  "kernelspec": {
   "name": "python3",
   "display_name": "Python 3",
   "language": "python"
  }
 },
 "nbformat": 4,
 "nbformat_minor": 2,
 "cells": [
  {
   "source": [
    "```\n",
    "         Copyright Rein Halbersma 2020.\n",
    "Distributed under the Boost Software License, Version 1.0.\n",
    "   (See accompanying file LICENSE_1_0.txt or copy at\n",
    "         http://www.boost.org/LICENSE_1_0.txt)\n",
    "```"
   ],
   "cell_type": "markdown",
   "metadata": {}
  },
  {
   "source": [
    "# Dynamic programming for the game of Blackjack"
   ],
   "cell_type": "markdown",
   "metadata": {}
  },
  {
   "cell_type": "code",
   "execution_count": 1,
   "metadata": {},
   "outputs": [],
   "source": [
    "import gym\n",
    "import pandas as pd\n",
    "\n",
    "import gym_blackjack_v1 as bj\n",
    "from doctrina import spaces\n",
    "from doctrina.algorithms import dp\n",
    "\n",
    "env = gym.make('Blackjack-v1', winning_blackjack=+1.5, model_based=True)"
   ]
  },
  {
   "source": [
    "## The payout"
   ],
   "cell_type": "markdown",
   "metadata": {}
  },
  {
   "cell_type": "code",
   "execution_count": 2,
   "metadata": {},
   "outputs": [
    {
     "output_type": "execute_result",
     "data": {
      "text/plain": [
       "      BUST   16   17   18   19   20   21   BJ\n",
       "BUST  -1.0 -1.0 -1.0 -1.0 -1.0 -1.0 -1.0 -1.0\n",
       "16     1.0  0.0 -1.0 -1.0 -1.0 -1.0 -1.0 -1.0\n",
       "17     1.0  1.0  0.0 -1.0 -1.0 -1.0 -1.0 -1.0\n",
       "18     1.0  1.0  1.0  0.0 -1.0 -1.0 -1.0 -1.0\n",
       "19     1.0  1.0  1.0  1.0  0.0 -1.0 -1.0 -1.0\n",
       "20     1.0  1.0  1.0  1.0  1.0  0.0 -1.0 -1.0\n",
       "21     1.0  1.0  1.0  1.0  1.0  1.0  0.0 -1.0\n",
       "BJ     1.5  1.5  1.5  1.5  1.5  1.5  1.5  0.0"
      ],
      "text/html": "<div>\n<style scoped>\n    .dataframe tbody tr th:only-of-type {\n        vertical-align: middle;\n    }\n\n    .dataframe tbody tr th {\n        vertical-align: top;\n    }\n\n    .dataframe thead th {\n        text-align: right;\n    }\n</style>\n<table border=\"1\" class=\"dataframe\">\n  <thead>\n    <tr style=\"text-align: right;\">\n      <th></th>\n      <th>BUST</th>\n      <th>16</th>\n      <th>17</th>\n      <th>18</th>\n      <th>19</th>\n      <th>20</th>\n      <th>21</th>\n      <th>BJ</th>\n    </tr>\n  </thead>\n  <tbody>\n    <tr>\n      <th>BUST</th>\n      <td>-1.0</td>\n      <td>-1.0</td>\n      <td>-1.0</td>\n      <td>-1.0</td>\n      <td>-1.0</td>\n      <td>-1.0</td>\n      <td>-1.0</td>\n      <td>-1.0</td>\n    </tr>\n    <tr>\n      <th>16</th>\n      <td>1.0</td>\n      <td>0.0</td>\n      <td>-1.0</td>\n      <td>-1.0</td>\n      <td>-1.0</td>\n      <td>-1.0</td>\n      <td>-1.0</td>\n      <td>-1.0</td>\n    </tr>\n    <tr>\n      <th>17</th>\n      <td>1.0</td>\n      <td>1.0</td>\n      <td>0.0</td>\n      <td>-1.0</td>\n      <td>-1.0</td>\n      <td>-1.0</td>\n      <td>-1.0</td>\n      <td>-1.0</td>\n    </tr>\n    <tr>\n      <th>18</th>\n      <td>1.0</td>\n      <td>1.0</td>\n      <td>1.0</td>\n      <td>0.0</td>\n      <td>-1.0</td>\n      <td>-1.0</td>\n      <td>-1.0</td>\n      <td>-1.0</td>\n    </tr>\n    <tr>\n      <th>19</th>\n      <td>1.0</td>\n      <td>1.0</td>\n      <td>1.0</td>\n      <td>1.0</td>\n      <td>0.0</td>\n      <td>-1.0</td>\n      <td>-1.0</td>\n      <td>-1.0</td>\n    </tr>\n    <tr>\n      <th>20</th>\n      <td>1.0</td>\n      <td>1.0</td>\n      <td>1.0</td>\n      <td>1.0</td>\n      <td>1.0</td>\n      <td>0.0</td>\n      <td>-1.0</td>\n      <td>-1.0</td>\n    </tr>\n    <tr>\n      <th>21</th>\n      <td>1.0</td>\n      <td>1.0</td>\n      <td>1.0</td>\n      <td>1.0</td>\n      <td>1.0</td>\n      <td>1.0</td>\n      <td>0.0</td>\n      <td>-1.0</td>\n    </tr>\n    <tr>\n      <th>BJ</th>\n      <td>1.5</td>\n      <td>1.5</td>\n      <td>1.5</td>\n      <td>1.5</td>\n      <td>1.5</td>\n      <td>1.5</td>\n      <td>1.5</td>\n      <td>0.0</td>\n    </tr>\n  </tbody>\n</table>\n</div>"
     },
     "metadata": {},
     "execution_count": 2
    }
   ],
   "source": [
    "pd.DataFrame(\n",
    "    env.payout,\n",
    "    index=bj.count_labels,  # player count\n",
    "    columns=bj.count_labels # dealer count\n",
    ")"
   ]
  },
  {
   "source": [
    "## Value iteration"
   ],
   "cell_type": "markdown",
   "metadata": {}
  },
  {
   "cell_type": "code",
   "execution_count": 3,
   "metadata": {},
   "outputs": [],
   "source": [
    "V, policy, delta, iter = dp.V_value_iter(env)"
   ]
  },
  {
   "source": [
    "## The state-value function"
   ],
   "cell_type": "markdown",
   "metadata": {}
  },
  {
   "cell_type": "code",
   "execution_count": 4,
   "metadata": {},
   "outputs": [
    {
     "output_type": "execute_result",
     "data": {
      "text/plain": [
       "          2       3       4       5       6       7       8       9       T  \\\n",
       "H2  -0.0759 -0.0498 -0.0221  0.0137  0.0389 -0.0273 -0.1032 -0.1900 -0.3003   \n",
       "H3  -0.1005 -0.0689 -0.0363  0.0002  0.0245 -0.0574 -0.1309 -0.2151 -0.3218   \n",
       "H4  -0.1149 -0.0826 -0.0494 -0.0124  0.0111 -0.0883 -0.1593 -0.2407 -0.3439   \n",
       "H5  -0.1282 -0.0953 -0.0615 -0.0240 -0.0012 -0.1194 -0.1881 -0.2666 -0.3662   \n",
       "H6  -0.1408 -0.1073 -0.0729 -0.0349 -0.0130 -0.1519 -0.2172 -0.2926 -0.3887   \n",
       "H7  -0.1092 -0.0766 -0.0430 -0.0073  0.0292 -0.0688 -0.2106 -0.2854 -0.3714   \n",
       "H8  -0.0218  0.0080  0.0388  0.0708  0.1150  0.0822 -0.0599 -0.2102 -0.3071   \n",
       "H9   0.0744  0.1013  0.1290  0.1580  0.1960  0.1719  0.0984 -0.0522 -0.2181   \n",
       "H10  0.1825  0.2061  0.2305  0.2563  0.2878  0.2569  0.1980  0.1165 -0.0536   \n",
       "H11  0.2384  0.2603  0.2830  0.3073  0.3337  0.2921  0.2300  0.1583  0.0334   \n",
       "H12 -0.2534 -0.2337 -0.2111 -0.1672 -0.1537 -0.2128 -0.2716 -0.3400 -0.4287   \n",
       "H13 -0.2928 -0.2523 -0.2111 -0.1672 -0.1537 -0.2691 -0.3236 -0.3872 -0.4695   \n",
       "H14 -0.2928 -0.2523 -0.2111 -0.1672 -0.1537 -0.3213 -0.3719 -0.4309 -0.5074   \n",
       "H15 -0.2928 -0.2523 -0.2111 -0.1672 -0.1537 -0.3698 -0.4168 -0.4716 -0.5425   \n",
       "H16 -0.2928 -0.2523 -0.2111 -0.1672 -0.1537 -0.4148 -0.4584 -0.5093 -0.5752   \n",
       "H17 -0.1530 -0.1172 -0.0806 -0.0449  0.0117 -0.1068 -0.3820 -0.4232 -0.4644   \n",
       "H18  0.1217  0.1483  0.1759  0.1996  0.2834  0.3996  0.1060 -0.1832 -0.2415   \n",
       "H19  0.3863  0.4044  0.4232  0.4395  0.4960  0.6160  0.5939  0.2876 -0.0187   \n",
       "H20  0.6400  0.6503  0.6610  0.6704  0.7040  0.7732  0.7918  0.7584  0.4350   \n",
       "H21  0.8820  0.8853  0.8888  0.8918  0.9028  0.9259  0.9306  0.9392  0.8117   \n",
       "T    0.2300  0.2534  0.2775  0.3030  0.3337  0.3011  0.2418  0.1597 -0.0095   \n",
       "A    0.5598  0.5768  0.5944  0.6129  0.6396  0.6340  0.5759  0.4940  0.3431   \n",
       "S12  0.0818  0.1035  0.1266  0.1565  0.1860  0.1655  0.0951  0.0001 -0.1415   \n",
       "S13  0.0466  0.0741  0.1025  0.1334  0.1617  0.1224  0.0541 -0.0377 -0.1737   \n",
       "S14  0.0224  0.0508  0.0801  0.1119  0.1392  0.0795  0.0133 -0.0752 -0.2057   \n",
       "S15 -0.0001  0.0292  0.0593  0.0920  0.1182  0.0370 -0.0271 -0.1122 -0.2373   \n",
       "S16 -0.0210  0.0091  0.0400  0.0734  0.0988 -0.0049 -0.0668 -0.1486 -0.2684   \n",
       "S17 -0.0005  0.0290  0.0593  0.0912  0.1281  0.0538 -0.0729 -0.1498 -0.2586   \n",
       "S18  0.1217  0.1483  0.1759  0.1996  0.2834  0.3996  0.1060 -0.1007 -0.2097   \n",
       "S19  0.3863  0.4044  0.4232  0.4395  0.4960  0.6160  0.5939  0.2876 -0.0187   \n",
       "S20  0.6400  0.6503  0.6610  0.6704  0.7040  0.7732  0.7918  0.7584  0.4350   \n",
       "S21  0.8820  0.8853  0.8888  0.8918  0.9028  0.9259  0.9306  0.9392  0.8117   \n",
       "BJ   1.5000  1.5000  1.5000  1.5000  1.5000  1.5000  1.5000  1.5000  1.3846   \n",
       "\n",
       "          A  \n",
       "H2  -0.4485  \n",
       "H3  -0.4655  \n",
       "H4  -0.4829  \n",
       "H5  -0.5006  \n",
       "H6  -0.5183  \n",
       "H7  -0.5224  \n",
       "H8  -0.4441  \n",
       "H9  -0.3532  \n",
       "H10 -0.2513  \n",
       "H11 -0.2087  \n",
       "H12 -0.5504  \n",
       "H13 -0.5825  \n",
       "H14 -0.6123  \n",
       "H15 -0.6400  \n",
       "H16 -0.6657  \n",
       "H17 -0.6386  \n",
       "H18 -0.3771  \n",
       "H19 -0.1155  \n",
       "H20  0.1461  \n",
       "H21  0.3307  \n",
       "T   -0.1969  \n",
       "A    0.1168  \n",
       "S12 -0.3219  \n",
       "S13 -0.3474  \n",
       "S14 -0.3727  \n",
       "S15 -0.3977  \n",
       "S16 -0.4224  \n",
       "S17 -0.4320  \n",
       "S18 -0.3720  \n",
       "S19 -0.1155  \n",
       "S20  0.1461  \n",
       "S21  0.3307  \n",
       "BJ   1.0385  "
      ],
      "text/html": "<div>\n<style scoped>\n    .dataframe tbody tr th:only-of-type {\n        vertical-align: middle;\n    }\n\n    .dataframe tbody tr th {\n        vertical-align: top;\n    }\n\n    .dataframe thead th {\n        text-align: right;\n    }\n</style>\n<table border=\"1\" class=\"dataframe\">\n  <thead>\n    <tr style=\"text-align: right;\">\n      <th></th>\n      <th>2</th>\n      <th>3</th>\n      <th>4</th>\n      <th>5</th>\n      <th>6</th>\n      <th>7</th>\n      <th>8</th>\n      <th>9</th>\n      <th>T</th>\n      <th>A</th>\n    </tr>\n  </thead>\n  <tbody>\n    <tr>\n      <th>H2</th>\n      <td>-0.0759</td>\n      <td>-0.0498</td>\n      <td>-0.0221</td>\n      <td>0.0137</td>\n      <td>0.0389</td>\n      <td>-0.0273</td>\n      <td>-0.1032</td>\n      <td>-0.1900</td>\n      <td>-0.3003</td>\n      <td>-0.4485</td>\n    </tr>\n    <tr>\n      <th>H3</th>\n      <td>-0.1005</td>\n      <td>-0.0689</td>\n      <td>-0.0363</td>\n      <td>0.0002</td>\n      <td>0.0245</td>\n      <td>-0.0574</td>\n      <td>-0.1309</td>\n      <td>-0.2151</td>\n      <td>-0.3218</td>\n      <td>-0.4655</td>\n    </tr>\n    <tr>\n      <th>H4</th>\n      <td>-0.1149</td>\n      <td>-0.0826</td>\n      <td>-0.0494</td>\n      <td>-0.0124</td>\n      <td>0.0111</td>\n      <td>-0.0883</td>\n      <td>-0.1593</td>\n      <td>-0.2407</td>\n      <td>-0.3439</td>\n      <td>-0.4829</td>\n    </tr>\n    <tr>\n      <th>H5</th>\n      <td>-0.1282</td>\n      <td>-0.0953</td>\n      <td>-0.0615</td>\n      <td>-0.0240</td>\n      <td>-0.0012</td>\n      <td>-0.1194</td>\n      <td>-0.1881</td>\n      <td>-0.2666</td>\n      <td>-0.3662</td>\n      <td>-0.5006</td>\n    </tr>\n    <tr>\n      <th>H6</th>\n      <td>-0.1408</td>\n      <td>-0.1073</td>\n      <td>-0.0729</td>\n      <td>-0.0349</td>\n      <td>-0.0130</td>\n      <td>-0.1519</td>\n      <td>-0.2172</td>\n      <td>-0.2926</td>\n      <td>-0.3887</td>\n      <td>-0.5183</td>\n    </tr>\n    <tr>\n      <th>H7</th>\n      <td>-0.1092</td>\n      <td>-0.0766</td>\n      <td>-0.0430</td>\n      <td>-0.0073</td>\n      <td>0.0292</td>\n      <td>-0.0688</td>\n      <td>-0.2106</td>\n      <td>-0.2854</td>\n      <td>-0.3714</td>\n      <td>-0.5224</td>\n    </tr>\n    <tr>\n      <th>H8</th>\n      <td>-0.0218</td>\n      <td>0.0080</td>\n      <td>0.0388</td>\n      <td>0.0708</td>\n      <td>0.1150</td>\n      <td>0.0822</td>\n      <td>-0.0599</td>\n      <td>-0.2102</td>\n      <td>-0.3071</td>\n      <td>-0.4441</td>\n    </tr>\n    <tr>\n      <th>H9</th>\n      <td>0.0744</td>\n      <td>0.1013</td>\n      <td>0.1290</td>\n      <td>0.1580</td>\n      <td>0.1960</td>\n      <td>0.1719</td>\n      <td>0.0984</td>\n      <td>-0.0522</td>\n      <td>-0.2181</td>\n      <td>-0.3532</td>\n    </tr>\n    <tr>\n      <th>H10</th>\n      <td>0.1825</td>\n      <td>0.2061</td>\n      <td>0.2305</td>\n      <td>0.2563</td>\n      <td>0.2878</td>\n      <td>0.2569</td>\n      <td>0.1980</td>\n      <td>0.1165</td>\n      <td>-0.0536</td>\n      <td>-0.2513</td>\n    </tr>\n    <tr>\n      <th>H11</th>\n      <td>0.2384</td>\n      <td>0.2603</td>\n      <td>0.2830</td>\n      <td>0.3073</td>\n      <td>0.3337</td>\n      <td>0.2921</td>\n      <td>0.2300</td>\n      <td>0.1583</td>\n      <td>0.0334</td>\n      <td>-0.2087</td>\n    </tr>\n    <tr>\n      <th>H12</th>\n      <td>-0.2534</td>\n      <td>-0.2337</td>\n      <td>-0.2111</td>\n      <td>-0.1672</td>\n      <td>-0.1537</td>\n      <td>-0.2128</td>\n      <td>-0.2716</td>\n      <td>-0.3400</td>\n      <td>-0.4287</td>\n      <td>-0.5504</td>\n    </tr>\n    <tr>\n      <th>H13</th>\n      <td>-0.2928</td>\n      <td>-0.2523</td>\n      <td>-0.2111</td>\n      <td>-0.1672</td>\n      <td>-0.1537</td>\n      <td>-0.2691</td>\n      <td>-0.3236</td>\n      <td>-0.3872</td>\n      <td>-0.4695</td>\n      <td>-0.5825</td>\n    </tr>\n    <tr>\n      <th>H14</th>\n      <td>-0.2928</td>\n      <td>-0.2523</td>\n      <td>-0.2111</td>\n      <td>-0.1672</td>\n      <td>-0.1537</td>\n      <td>-0.3213</td>\n      <td>-0.3719</td>\n      <td>-0.4309</td>\n      <td>-0.5074</td>\n      <td>-0.6123</td>\n    </tr>\n    <tr>\n      <th>H15</th>\n      <td>-0.2928</td>\n      <td>-0.2523</td>\n      <td>-0.2111</td>\n      <td>-0.1672</td>\n      <td>-0.1537</td>\n      <td>-0.3698</td>\n      <td>-0.4168</td>\n      <td>-0.4716</td>\n      <td>-0.5425</td>\n      <td>-0.6400</td>\n    </tr>\n    <tr>\n      <th>H16</th>\n      <td>-0.2928</td>\n      <td>-0.2523</td>\n      <td>-0.2111</td>\n      <td>-0.1672</td>\n      <td>-0.1537</td>\n      <td>-0.4148</td>\n      <td>-0.4584</td>\n      <td>-0.5093</td>\n      <td>-0.5752</td>\n      <td>-0.6657</td>\n    </tr>\n    <tr>\n      <th>H17</th>\n      <td>-0.1530</td>\n      <td>-0.1172</td>\n      <td>-0.0806</td>\n      <td>-0.0449</td>\n      <td>0.0117</td>\n      <td>-0.1068</td>\n      <td>-0.3820</td>\n      <td>-0.4232</td>\n      <td>-0.4644</td>\n      <td>-0.6386</td>\n    </tr>\n    <tr>\n      <th>H18</th>\n      <td>0.1217</td>\n      <td>0.1483</td>\n      <td>0.1759</td>\n      <td>0.1996</td>\n      <td>0.2834</td>\n      <td>0.3996</td>\n      <td>0.1060</td>\n      <td>-0.1832</td>\n      <td>-0.2415</td>\n      <td>-0.3771</td>\n    </tr>\n    <tr>\n      <th>H19</th>\n      <td>0.3863</td>\n      <td>0.4044</td>\n      <td>0.4232</td>\n      <td>0.4395</td>\n      <td>0.4960</td>\n      <td>0.6160</td>\n      <td>0.5939</td>\n      <td>0.2876</td>\n      <td>-0.0187</td>\n      <td>-0.1155</td>\n    </tr>\n    <tr>\n      <th>H20</th>\n      <td>0.6400</td>\n      <td>0.6503</td>\n      <td>0.6610</td>\n      <td>0.6704</td>\n      <td>0.7040</td>\n      <td>0.7732</td>\n      <td>0.7918</td>\n      <td>0.7584</td>\n      <td>0.4350</td>\n      <td>0.1461</td>\n    </tr>\n    <tr>\n      <th>H21</th>\n      <td>0.8820</td>\n      <td>0.8853</td>\n      <td>0.8888</td>\n      <td>0.8918</td>\n      <td>0.9028</td>\n      <td>0.9259</td>\n      <td>0.9306</td>\n      <td>0.9392</td>\n      <td>0.8117</td>\n      <td>0.3307</td>\n    </tr>\n    <tr>\n      <th>T</th>\n      <td>0.2300</td>\n      <td>0.2534</td>\n      <td>0.2775</td>\n      <td>0.3030</td>\n      <td>0.3337</td>\n      <td>0.3011</td>\n      <td>0.2418</td>\n      <td>0.1597</td>\n      <td>-0.0095</td>\n      <td>-0.1969</td>\n    </tr>\n    <tr>\n      <th>A</th>\n      <td>0.5598</td>\n      <td>0.5768</td>\n      <td>0.5944</td>\n      <td>0.6129</td>\n      <td>0.6396</td>\n      <td>0.6340</td>\n      <td>0.5759</td>\n      <td>0.4940</td>\n      <td>0.3431</td>\n      <td>0.1168</td>\n    </tr>\n    <tr>\n      <th>S12</th>\n      <td>0.0818</td>\n      <td>0.1035</td>\n      <td>0.1266</td>\n      <td>0.1565</td>\n      <td>0.1860</td>\n      <td>0.1655</td>\n      <td>0.0951</td>\n      <td>0.0001</td>\n      <td>-0.1415</td>\n      <td>-0.3219</td>\n    </tr>\n    <tr>\n      <th>S13</th>\n      <td>0.0466</td>\n      <td>0.0741</td>\n      <td>0.1025</td>\n      <td>0.1334</td>\n      <td>0.1617</td>\n      <td>0.1224</td>\n      <td>0.0541</td>\n      <td>-0.0377</td>\n      <td>-0.1737</td>\n      <td>-0.3474</td>\n    </tr>\n    <tr>\n      <th>S14</th>\n      <td>0.0224</td>\n      <td>0.0508</td>\n      <td>0.0801</td>\n      <td>0.1119</td>\n      <td>0.1392</td>\n      <td>0.0795</td>\n      <td>0.0133</td>\n      <td>-0.0752</td>\n      <td>-0.2057</td>\n      <td>-0.3727</td>\n    </tr>\n    <tr>\n      <th>S15</th>\n      <td>-0.0001</td>\n      <td>0.0292</td>\n      <td>0.0593</td>\n      <td>0.0920</td>\n      <td>0.1182</td>\n      <td>0.0370</td>\n      <td>-0.0271</td>\n      <td>-0.1122</td>\n      <td>-0.2373</td>\n      <td>-0.3977</td>\n    </tr>\n    <tr>\n      <th>S16</th>\n      <td>-0.0210</td>\n      <td>0.0091</td>\n      <td>0.0400</td>\n      <td>0.0734</td>\n      <td>0.0988</td>\n      <td>-0.0049</td>\n      <td>-0.0668</td>\n      <td>-0.1486</td>\n      <td>-0.2684</td>\n      <td>-0.4224</td>\n    </tr>\n    <tr>\n      <th>S17</th>\n      <td>-0.0005</td>\n      <td>0.0290</td>\n      <td>0.0593</td>\n      <td>0.0912</td>\n      <td>0.1281</td>\n      <td>0.0538</td>\n      <td>-0.0729</td>\n      <td>-0.1498</td>\n      <td>-0.2586</td>\n      <td>-0.4320</td>\n    </tr>\n    <tr>\n      <th>S18</th>\n      <td>0.1217</td>\n      <td>0.1483</td>\n      <td>0.1759</td>\n      <td>0.1996</td>\n      <td>0.2834</td>\n      <td>0.3996</td>\n      <td>0.1060</td>\n      <td>-0.1007</td>\n      <td>-0.2097</td>\n      <td>-0.3720</td>\n    </tr>\n    <tr>\n      <th>S19</th>\n      <td>0.3863</td>\n      <td>0.4044</td>\n      <td>0.4232</td>\n      <td>0.4395</td>\n      <td>0.4960</td>\n      <td>0.6160</td>\n      <td>0.5939</td>\n      <td>0.2876</td>\n      <td>-0.0187</td>\n      <td>-0.1155</td>\n    </tr>\n    <tr>\n      <th>S20</th>\n      <td>0.6400</td>\n      <td>0.6503</td>\n      <td>0.6610</td>\n      <td>0.6704</td>\n      <td>0.7040</td>\n      <td>0.7732</td>\n      <td>0.7918</td>\n      <td>0.7584</td>\n      <td>0.4350</td>\n      <td>0.1461</td>\n    </tr>\n    <tr>\n      <th>S21</th>\n      <td>0.8820</td>\n      <td>0.8853</td>\n      <td>0.8888</td>\n      <td>0.8918</td>\n      <td>0.9028</td>\n      <td>0.9259</td>\n      <td>0.9306</td>\n      <td>0.9392</td>\n      <td>0.8117</td>\n      <td>0.3307</td>\n    </tr>\n    <tr>\n      <th>BJ</th>\n      <td>1.5000</td>\n      <td>1.5000</td>\n      <td>1.5000</td>\n      <td>1.5000</td>\n      <td>1.5000</td>\n      <td>1.5000</td>\n      <td>1.5000</td>\n      <td>1.5000</td>\n      <td>1.3846</td>\n      <td>1.0385</td>\n    </tr>\n  </tbody>\n</table>\n</div>"
     },
     "metadata": {},
     "execution_count": 4
    }
   ],
   "source": [
    "pd.DataFrame(\n",
    "    V.reshape(spaces.shape(env.state_space))[1:len(bj.Hand), :len(bj.Card)], \n",
    "    index=bj.hand_labels[1:], \n",
    "    columns=bj.card_labels\n",
    ").round(4)"
   ]
  },
  {
   "source": [
    "## The optimal policy"
   ],
   "cell_type": "markdown",
   "metadata": {}
  },
  {
   "cell_type": "code",
   "execution_count": 5,
   "metadata": {},
   "outputs": [
    {
     "output_type": "execute_result",
     "data": {
      "text/plain": [
       "     2  3  4  5  6  7  8  9  T  A\n",
       "H2   H  H  H  H  H  H  H  H  H  H\n",
       "H3   H  H  H  H  H  H  H  H  H  H\n",
       "H4   H  H  H  H  H  H  H  H  H  H\n",
       "H5   H  H  H  H  H  H  H  H  H  H\n",
       "H6   H  H  H  H  H  H  H  H  H  H\n",
       "H7   H  H  H  H  H  H  H  H  H  H\n",
       "H8   H  H  H  H  H  H  H  H  H  H\n",
       "H9   H  H  H  H  H  H  H  H  H  H\n",
       "H10  H  H  H  H  H  H  H  H  H  H\n",
       "H11  H  H  H  H  H  H  H  H  H  H\n",
       "H12  H  H           H  H  H  H  H\n",
       "H13                 H  H  H  H  H\n",
       "H14                 H  H  H  H  H\n",
       "H15                 H  H  H  H  H\n",
       "H16                 H  H  H  H  H\n",
       "H17                              \n",
       "H18                              \n",
       "H19                              \n",
       "H20                              \n",
       "H21                              \n",
       "T    H  H  H  H  H  H  H  H  H  H\n",
       "A    H  H  H  H  H  H  H  H  H  H\n",
       "S12  H  H  H  H  H  H  H  H  H  H\n",
       "S13  H  H  H  H  H  H  H  H  H  H\n",
       "S14  H  H  H  H  H  H  H  H  H  H\n",
       "S15  H  H  H  H  H  H  H  H  H  H\n",
       "S16  H  H  H  H  H  H  H  H  H  H\n",
       "S17  H  H  H  H  H  H  H  H  H  H\n",
       "S18                       H  H  H\n",
       "S19                              \n",
       "S20                              \n",
       "S21                              \n",
       "BJ                               "
      ],
      "text/html": "<div>\n<style scoped>\n    .dataframe tbody tr th:only-of-type {\n        vertical-align: middle;\n    }\n\n    .dataframe tbody tr th {\n        vertical-align: top;\n    }\n\n    .dataframe thead th {\n        text-align: right;\n    }\n</style>\n<table border=\"1\" class=\"dataframe\">\n  <thead>\n    <tr style=\"text-align: right;\">\n      <th></th>\n      <th>2</th>\n      <th>3</th>\n      <th>4</th>\n      <th>5</th>\n      <th>6</th>\n      <th>7</th>\n      <th>8</th>\n      <th>9</th>\n      <th>T</th>\n      <th>A</th>\n    </tr>\n  </thead>\n  <tbody>\n    <tr>\n      <th>H2</th>\n      <td>H</td>\n      <td>H</td>\n      <td>H</td>\n      <td>H</td>\n      <td>H</td>\n      <td>H</td>\n      <td>H</td>\n      <td>H</td>\n      <td>H</td>\n      <td>H</td>\n    </tr>\n    <tr>\n      <th>H3</th>\n      <td>H</td>\n      <td>H</td>\n      <td>H</td>\n      <td>H</td>\n      <td>H</td>\n      <td>H</td>\n      <td>H</td>\n      <td>H</td>\n      <td>H</td>\n      <td>H</td>\n    </tr>\n    <tr>\n      <th>H4</th>\n      <td>H</td>\n      <td>H</td>\n      <td>H</td>\n      <td>H</td>\n      <td>H</td>\n      <td>H</td>\n      <td>H</td>\n      <td>H</td>\n      <td>H</td>\n      <td>H</td>\n    </tr>\n    <tr>\n      <th>H5</th>\n      <td>H</td>\n      <td>H</td>\n      <td>H</td>\n      <td>H</td>\n      <td>H</td>\n      <td>H</td>\n      <td>H</td>\n      <td>H</td>\n      <td>H</td>\n      <td>H</td>\n    </tr>\n    <tr>\n      <th>H6</th>\n      <td>H</td>\n      <td>H</td>\n      <td>H</td>\n      <td>H</td>\n      <td>H</td>\n      <td>H</td>\n      <td>H</td>\n      <td>H</td>\n      <td>H</td>\n      <td>H</td>\n    </tr>\n    <tr>\n      <th>H7</th>\n      <td>H</td>\n      <td>H</td>\n      <td>H</td>\n      <td>H</td>\n      <td>H</td>\n      <td>H</td>\n      <td>H</td>\n      <td>H</td>\n      <td>H</td>\n      <td>H</td>\n    </tr>\n    <tr>\n      <th>H8</th>\n      <td>H</td>\n      <td>H</td>\n      <td>H</td>\n      <td>H</td>\n      <td>H</td>\n      <td>H</td>\n      <td>H</td>\n      <td>H</td>\n      <td>H</td>\n      <td>H</td>\n    </tr>\n    <tr>\n      <th>H9</th>\n      <td>H</td>\n      <td>H</td>\n      <td>H</td>\n      <td>H</td>\n      <td>H</td>\n      <td>H</td>\n      <td>H</td>\n      <td>H</td>\n      <td>H</td>\n      <td>H</td>\n    </tr>\n    <tr>\n      <th>H10</th>\n      <td>H</td>\n      <td>H</td>\n      <td>H</td>\n      <td>H</td>\n      <td>H</td>\n      <td>H</td>\n      <td>H</td>\n      <td>H</td>\n      <td>H</td>\n      <td>H</td>\n    </tr>\n    <tr>\n      <th>H11</th>\n      <td>H</td>\n      <td>H</td>\n      <td>H</td>\n      <td>H</td>\n      <td>H</td>\n      <td>H</td>\n      <td>H</td>\n      <td>H</td>\n      <td>H</td>\n      <td>H</td>\n    </tr>\n    <tr>\n      <th>H12</th>\n      <td>H</td>\n      <td>H</td>\n      <td></td>\n      <td></td>\n      <td></td>\n      <td>H</td>\n      <td>H</td>\n      <td>H</td>\n      <td>H</td>\n      <td>H</td>\n    </tr>\n    <tr>\n      <th>H13</th>\n      <td></td>\n      <td></td>\n      <td></td>\n      <td></td>\n      <td></td>\n      <td>H</td>\n      <td>H</td>\n      <td>H</td>\n      <td>H</td>\n      <td>H</td>\n    </tr>\n    <tr>\n      <th>H14</th>\n      <td></td>\n      <td></td>\n      <td></td>\n      <td></td>\n      <td></td>\n      <td>H</td>\n      <td>H</td>\n      <td>H</td>\n      <td>H</td>\n      <td>H</td>\n    </tr>\n    <tr>\n      <th>H15</th>\n      <td></td>\n      <td></td>\n      <td></td>\n      <td></td>\n      <td></td>\n      <td>H</td>\n      <td>H</td>\n      <td>H</td>\n      <td>H</td>\n      <td>H</td>\n    </tr>\n    <tr>\n      <th>H16</th>\n      <td></td>\n      <td></td>\n      <td></td>\n      <td></td>\n      <td></td>\n      <td>H</td>\n      <td>H</td>\n      <td>H</td>\n      <td>H</td>\n      <td>H</td>\n    </tr>\n    <tr>\n      <th>H17</th>\n      <td></td>\n      <td></td>\n      <td></td>\n      <td></td>\n      <td></td>\n      <td></td>\n      <td></td>\n      <td></td>\n      <td></td>\n      <td></td>\n    </tr>\n    <tr>\n      <th>H18</th>\n      <td></td>\n      <td></td>\n      <td></td>\n      <td></td>\n      <td></td>\n      <td></td>\n      <td></td>\n      <td></td>\n      <td></td>\n      <td></td>\n    </tr>\n    <tr>\n      <th>H19</th>\n      <td></td>\n      <td></td>\n      <td></td>\n      <td></td>\n      <td></td>\n      <td></td>\n      <td></td>\n      <td></td>\n      <td></td>\n      <td></td>\n    </tr>\n    <tr>\n      <th>H20</th>\n      <td></td>\n      <td></td>\n      <td></td>\n      <td></td>\n      <td></td>\n      <td></td>\n      <td></td>\n      <td></td>\n      <td></td>\n      <td></td>\n    </tr>\n    <tr>\n      <th>H21</th>\n      <td></td>\n      <td></td>\n      <td></td>\n      <td></td>\n      <td></td>\n      <td></td>\n      <td></td>\n      <td></td>\n      <td></td>\n      <td></td>\n    </tr>\n    <tr>\n      <th>T</th>\n      <td>H</td>\n      <td>H</td>\n      <td>H</td>\n      <td>H</td>\n      <td>H</td>\n      <td>H</td>\n      <td>H</td>\n      <td>H</td>\n      <td>H</td>\n      <td>H</td>\n    </tr>\n    <tr>\n      <th>A</th>\n      <td>H</td>\n      <td>H</td>\n      <td>H</td>\n      <td>H</td>\n      <td>H</td>\n      <td>H</td>\n      <td>H</td>\n      <td>H</td>\n      <td>H</td>\n      <td>H</td>\n    </tr>\n    <tr>\n      <th>S12</th>\n      <td>H</td>\n      <td>H</td>\n      <td>H</td>\n      <td>H</td>\n      <td>H</td>\n      <td>H</td>\n      <td>H</td>\n      <td>H</td>\n      <td>H</td>\n      <td>H</td>\n    </tr>\n    <tr>\n      <th>S13</th>\n      <td>H</td>\n      <td>H</td>\n      <td>H</td>\n      <td>H</td>\n      <td>H</td>\n      <td>H</td>\n      <td>H</td>\n      <td>H</td>\n      <td>H</td>\n      <td>H</td>\n    </tr>\n    <tr>\n      <th>S14</th>\n      <td>H</td>\n      <td>H</td>\n      <td>H</td>\n      <td>H</td>\n      <td>H</td>\n      <td>H</td>\n      <td>H</td>\n      <td>H</td>\n      <td>H</td>\n      <td>H</td>\n    </tr>\n    <tr>\n      <th>S15</th>\n      <td>H</td>\n      <td>H</td>\n      <td>H</td>\n      <td>H</td>\n      <td>H</td>\n      <td>H</td>\n      <td>H</td>\n      <td>H</td>\n      <td>H</td>\n      <td>H</td>\n    </tr>\n    <tr>\n      <th>S16</th>\n      <td>H</td>\n      <td>H</td>\n      <td>H</td>\n      <td>H</td>\n      <td>H</td>\n      <td>H</td>\n      <td>H</td>\n      <td>H</td>\n      <td>H</td>\n      <td>H</td>\n    </tr>\n    <tr>\n      <th>S17</th>\n      <td>H</td>\n      <td>H</td>\n      <td>H</td>\n      <td>H</td>\n      <td>H</td>\n      <td>H</td>\n      <td>H</td>\n      <td>H</td>\n      <td>H</td>\n      <td>H</td>\n    </tr>\n    <tr>\n      <th>S18</th>\n      <td></td>\n      <td></td>\n      <td></td>\n      <td></td>\n      <td></td>\n      <td></td>\n      <td></td>\n      <td>H</td>\n      <td>H</td>\n      <td>H</td>\n    </tr>\n    <tr>\n      <th>S19</th>\n      <td></td>\n      <td></td>\n      <td></td>\n      <td></td>\n      <td></td>\n      <td></td>\n      <td></td>\n      <td></td>\n      <td></td>\n      <td></td>\n    </tr>\n    <tr>\n      <th>S20</th>\n      <td></td>\n      <td></td>\n      <td></td>\n      <td></td>\n      <td></td>\n      <td></td>\n      <td></td>\n      <td></td>\n      <td></td>\n      <td></td>\n    </tr>\n    <tr>\n      <th>S21</th>\n      <td></td>\n      <td></td>\n      <td></td>\n      <td></td>\n      <td></td>\n      <td></td>\n      <td></td>\n      <td></td>\n      <td></td>\n      <td></td>\n    </tr>\n    <tr>\n      <th>BJ</th>\n      <td></td>\n      <td></td>\n      <td></td>\n      <td></td>\n      <td></td>\n      <td></td>\n      <td></td>\n      <td></td>\n      <td></td>\n      <td></td>\n    </tr>\n  </tbody>\n</table>\n</div>"
     },
     "metadata": {},
     "execution_count": 5
    }
   ],
   "source": [
    "pd.DataFrame(\n",
    "    policy.reshape(spaces.shape(env.state_space))[1:len(bj.Hand), :len(bj.Card)], \n",
    "    index=bj.hand_labels[1:], \n",
    "    columns=bj.card_labels\n",
    ").applymap(lambda a: bj.action_labels[a].upper()).replace({'S': ' '})"
   ]
  },
  {
   "source": [
    "## References\n",
    "[Reinforcement Learning, an Introduction, second edition] (http://incompleteideas.net/book/RLbook2020.pdf), Richard S. Sutton and Andrew G. Barto (2018).  \n",
    "[Optimal stopping of Markov chains or How to play Blackjack](https://www.dropbox.com/s/xrntclqyx36jhis/Blackjack_talk_2001.pdf), Craig L. Zirbel (2001)."
   ],
   "cell_type": "markdown",
   "metadata": {}
  }
 ]
}